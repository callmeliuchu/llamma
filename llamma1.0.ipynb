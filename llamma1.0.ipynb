{
 "cells": [
  {
   "cell_type": "code",
   "execution_count": 1,
   "id": "a05d62c4-5ecd-4b6a-963f-90017d33e3a5",
   "metadata": {},
   "outputs": [],
   "source": [
    "from contextlib import nullcontext"
   ]
  },
  {
   "cell_type": "code",
   "execution_count": 2,
   "id": "83975ca3-bc9f-47b3-8749-828327765255",
   "metadata": {},
   "outputs": [],
   "source": [
    "from typing import Optional,Tuple"
   ]
  },
  {
   "cell_type": "code",
   "execution_count": 3,
   "id": "663d9484-126d-4823-bad3-8025146e0270",
   "metadata": {},
   "outputs": [],
   "source": [
    "import math"
   ]
  },
  {
   "cell_type": "code",
   "execution_count": 4,
   "id": "ca038292-879e-493c-b81f-985798bac8a3",
   "metadata": {},
   "outputs": [],
   "source": [
    "import torch"
   ]
  },
  {
   "cell_type": "code",
   "execution_count": 5,
   "id": "859cbe9e-b29a-4705-816a-e392ad030300",
   "metadata": {},
   "outputs": [],
   "source": [
    "import torch.nn as nn"
   ]
  },
  {
   "cell_type": "code",
   "execution_count": null,
   "id": "317b4e81-ec1d-42d1-a369-84445da82429",
   "metadata": {},
   "outputs": [],
   "source": []
  },
  {
   "cell_type": "code",
   "execution_count": 6,
   "id": "21f70277-2faa-43f5-aaad-c568e717f418",
   "metadata": {},
   "outputs": [],
   "source": [
    "import torch.nn.functional as F"
   ]
  },
  {
   "cell_type": "code",
   "execution_count": 7,
   "id": "3b5a73d7-bee6-44ab-ae5a-5a8d9e1160cd",
   "metadata": {},
   "outputs": [],
   "source": [
    "from base_llama import LlamaPreTrainedModel, LlamaConfig\n",
    "from rope import apply_rotary_emb\n",
    "from utils import *"
   ]
  },
  {
   "cell_type": "code",
   "execution_count": 100,
   "id": "a0d5f775-274e-4ea7-ac78-4642f13a33f0",
   "metadata": {},
   "outputs": [],
   "source": [
    "class RMSNorm(nn.Module):\n",
    "\n",
    "    def __init__(self,dim,eps):\n",
    "        super().__init__()\n",
    "        self.weight = nn.Parameter(torch.ones(dim))\n",
    "        self.eps = eps\n",
    "    def forward(self,x):\n",
    "        return  self.weight * x / ((x ** 2).mean(dim=-1,keepdim=True) ** 0.5 + self.eps)"
   ]
  },
  {
   "cell_type": "code",
   "execution_count": 101,
   "id": "f0b6865d-63c8-43e5-a625-fa89c2589b3d",
   "metadata": {},
   "outputs": [],
   "source": [
    "x = torch.rand(5,4)"
   ]
  },
  {
   "cell_type": "code",
   "execution_count": 102,
   "id": "1f31c4e5-92de-4afd-b41d-55146452a60b",
   "metadata": {},
   "outputs": [],
   "source": [
    "rms = RMSNorm(4,0.000000001)"
   ]
  },
  {
   "cell_type": "code",
   "execution_count": 103,
   "id": "be1bab3d-ecd6-49eb-b053-1afaa06f7008",
   "metadata": {},
   "outputs": [
    {
     "data": {
      "text/plain": [
       "tensor([1.0000, 1.0000, 1.0000, 1.0000, 1.0000], grad_fn=<MeanBackward1>)"
      ]
     },
     "execution_count": 103,
     "metadata": {},
     "output_type": "execute_result"
    }
   ],
   "source": [
    "(rms(x) ** 2).mean(dim=-1)"
   ]
  },
  {
   "cell_type": "code",
   "execution_count": 104,
   "id": "34240038-ecb7-4f29-88ff-f4f1dc88d756",
   "metadata": {},
   "outputs": [],
   "source": [
    "def repeat(x,dim,n):\n",
    "    B,T,head,head_dim = x.shape\n",
    "    return x[:,:,:,None,:].expand(B,T,head,n,head_dim).reshape(B,T,head*n,head_dim)"
   ]
  },
  {
   "cell_type": "code",
   "execution_count": 201,
   "id": "e11d481e-a137-4c80-9507-32dbc036ad09",
   "metadata": {},
   "outputs": [],
   "source": [
    "class Attention(nn.Module):\n",
    "    def __init__(self,config:LlamaConfig):\n",
    "        ### group attention\n",
    "        # layers.0.attention.compute_query.weight\n",
    "        # layers.0.attention.compute_key.weight\n",
    "        # layers.0.attention.compute_value.weight\n",
    "        # layers.0.attention.compute_output.weight\n",
    "        super().__init__()\n",
    "        self.dim = config.dim\n",
    "        self.hidden_dim = config.hidden_dim\n",
    "        self.n_heads = config.n_heads\n",
    "        self.n_kv_heads = config.n_kv_heads\n",
    "        assert self.n_heads % self.n_kv_heads == 0\n",
    "        self.n_rep = self.n_heads // self.n_kv_heads\n",
    "        self.head_dim = self.dim // self.n_heads\n",
    "        self.max_seq_len = config.max_seq_len\n",
    "        self.compute_query = nn.Linear(self.dim,self.n_heads * self.head_dim,bias=False)\n",
    "        self.compute_key = nn.Linear(self.dim,self.n_kv_heads * self.head_dim,bias=False)\n",
    "        self.compute_value = nn.Linear(self.dim,self.n_kv_heads * self.head_dim,bias=False)\n",
    "        self.compute_output = nn.Linear(self.n_heads * self.head_dim,self.dim,bias=False)\n",
    "        \n",
    "    def compute(self,q,k,v):\n",
    "        B,head,T,head_dim = q.shape\n",
    "        scores = q @ k.transpose(2,3) / math.sqrt(head_dim)# B,head,T,T\n",
    "        mask = torch.tril(torch.ones(T,T))\n",
    "        scores = scores.masked_fill(mask == 0.,float('-inf'))\n",
    "        scores = F.softmax(scores,dim=-1) # B,head,T,head_dim\n",
    "        return scores @ v\n",
    "    \n",
    "        \n",
    "    def forward(self,x):\n",
    "        ### x (B,T,dim)\n",
    "        B,T,dim = x.shape\n",
    "        q = self.compute_query(x).view(B,T,self.n_heads,self.head_dim)\n",
    "        k = self.compute_key(x).view(B,T,self.n_kv_heads,self.head_dim)\n",
    "        v = self.compute_value(x).view(B,T,self.n_kv_heads,self.head_dim)\n",
    "        k = repeat(k,2,self.n_rep)\n",
    "        v = repeat(v,2,self.n_rep)\n",
    "        q, k = apply_rotary_emb(q, k, self.head_dim, self.max_seq_len)\n",
    "        # B,T,head,head_dim\n",
    "        q = q.transpose(1,2)\n",
    "        k = k.transpose(1,2)\n",
    "        v = v.transpose(1,2)\n",
    "        # B,head,T,head_dim\n",
    "        x = self.compute(q,k,v).transpose(1,2).reshape(B,T,-1)\n",
    "        # B,T dim\n",
    "        return self.compute_output(x)\n",
    "\n",
    "        "
   ]
  },
  {
   "cell_type": "code",
   "execution_count": 202,
   "id": "d130551c-b5e4-4109-a5d0-3ff395f6310f",
   "metadata": {},
   "outputs": [],
   "source": [
    "class FeedForward(nn.Module):\n",
    "\n",
    "    def __init__(self,dim:int, hidden_dim:int, multiple_of:int, dropout:float):\n",
    "        super().__init__()\n",
    "        # print(dim,hidden_dim,multiple_of,dropout)\n",
    "        if hidden_dim is None:\n",
    "            hidden_dim = 4 * dim\n",
    "            hidden_dim = int(2 * hidden_dim / 3)\n",
    "            hidden_dim = multiple_of * ((hidden_dim + multiple_of - 1) // multiple_of)\n",
    "        self.w1 = nn.Linear(dim,hidden_dim,bias=False)\n",
    "        self.w2 = nn.Linear(hidden_dim,dim,bias=False)\n",
    "        self.w3 = nn.Linear(dim,hidden_dim,bias=False)\n",
    "    def SiluGlu(self,x):\n",
    "        return F.silu(self.w1(x)) * self.w3(x)\n",
    "    def forward(self,x):\n",
    "        return self.w2(self.SiluGlu(x))"
   ]
  },
  {
   "cell_type": "code",
   "execution_count": 203,
   "id": "67b19382-2152-4338-846e-87e1df46e2d3",
   "metadata": {},
   "outputs": [],
   "source": [
    "class LlamaLayer(nn.Module):\n",
    "    def __init__(self,layer_id:int,config:LlamaConfig):\n",
    "        super().__init__()\n",
    "        self.layer_id = layer_id\n",
    "        self.attention_norm = RMSNorm(config.dim,eps=0.00001)\n",
    "        self.ffn_norm = RMSNorm(config.dim,eps=0.00001)\n",
    "        self.attention = Attention(config)\n",
    "        self.feed_forward = FeedForward(config.dim,config.hidden_dim,config.multiple_of,config.dropout)\n",
    "        \n",
    "    def forward(self,x):\n",
    "        x = x + self.attention(self.attention_norm(x))\n",
    "        x = x + self.feed_forward(self.ffn_norm(x))\n",
    "        return x"
   ]
  },
  {
   "cell_type": "code",
   "execution_count": 204,
   "id": "a48dc1c2-58fd-477d-abe1-a0c1c0992f9d",
   "metadata": {},
   "outputs": [],
   "source": [
    "class Llama(LlamaPreTrainedModel):\n",
    "    def __init__(self,config: LlamaConfig):\n",
    "        super().__init__(config)\n",
    "        self.layers = nn.ModuleList()\n",
    "        for i in range(config.n_layers):\n",
    "            self.layers.append(LlamaLayer(i,config))\n",
    "        self.norm = RMSNorm(config.dim,eps=0.000001)\n",
    "        self.output = nn.Linear(config.dim,config.vocab_size,bias=False)\n",
    "        self.tok_embeddings = nn.Embedding(config.vocab_size,config.dim)\n",
    "    def forward(self,x):\n",
    "        for layer in self.layers:\n",
    "            x = layer(x)\n",
    "        x = self.norm(x)\n",
    "        logits = self.output(x)\n",
    "        return logits\n",
    "\n",
    "    def generate(self,tokens,max_len):\n",
    "        # B,T\n",
    "        for _ in range(max_len):\n",
    "            x = self.tok_embeddings(tokens) # B,T,dim\n",
    "            logits = self.forward(x) # B,T,vocabsize\n",
    "            logits = logits[:,-1,:] # B, vocabsize\n",
    "            probs = F.softmax(logits,dim=-1)\n",
    "            idx = torch.multinomial(probs,num_samples=1) # B,1\n",
    "            tokens = torch.cat((tokens,idx),dim=-1)\n",
    "        return  tokens\n",
    "        \n",
    "        "
   ]
  },
  {
   "cell_type": "code",
   "execution_count": null,
   "id": "1d23bcc4-51b1-42b7-b49c-857ccb516c28",
   "metadata": {},
   "outputs": [],
   "source": []
  },
  {
   "cell_type": "code",
   "execution_count": 205,
   "id": "b7deca4b-b261-4ad0-9f36-6e052f260123",
   "metadata": {},
   "outputs": [],
   "source": [
    "config = LlamaConfig()"
   ]
  },
  {
   "cell_type": "code",
   "execution_count": 206,
   "id": "3c6a10bc-c89e-4acf-bba3-38b681bb7b35",
   "metadata": {},
   "outputs": [
    {
     "data": {
      "text/plain": [
       "512"
      ]
     },
     "execution_count": 206,
     "metadata": {},
     "output_type": "execute_result"
    }
   ],
   "source": [
    "config.dim"
   ]
  },
  {
   "cell_type": "code",
   "execution_count": 207,
   "id": "92405cbf-9aeb-4994-8e93-c0bfbfd59c5b",
   "metadata": {},
   "outputs": [],
   "source": [
    "llamma = Llama(LlamaConfig())"
   ]
  },
  {
   "cell_type": "code",
   "execution_count": 208,
   "id": "a6aba80d-99f2-4e1a-be31-cfabbcf2a155",
   "metadata": {},
   "outputs": [],
   "source": [
    "tokens = torch.LongTensor([[1,2,3]])"
   ]
  },
  {
   "cell_type": "code",
   "execution_count": 209,
   "id": "a6ebdfac-42ef-42a3-9bc5-f747ec87b54f",
   "metadata": {},
   "outputs": [
    {
     "data": {
      "text/plain": [
       "tensor([[1, 2, 3]])"
      ]
     },
     "execution_count": 209,
     "metadata": {},
     "output_type": "execute_result"
    }
   ],
   "source": [
    "tokens"
   ]
  },
  {
   "cell_type": "code",
   "execution_count": 210,
   "id": "b863bc7c-b91b-4431-9ecd-5947dc227f9e",
   "metadata": {},
   "outputs": [
    {
     "data": {
      "text/plain": [
       "tensor([[    1,     2,     3, 26166,  2582, 11375, 10368, 31222, 17974,  9217,\n",
       "          5680, 22261,  7229]])"
      ]
     },
     "execution_count": 210,
     "metadata": {},
     "output_type": "execute_result"
    }
   ],
   "source": [
    "llamma.generate(tokens,10)"
   ]
  },
  {
   "cell_type": "code",
   "execution_count": 211,
   "id": "9b8b45a5-b4d4-4654-931b-c25ca3b60516",
   "metadata": {},
   "outputs": [],
   "source": [
    "def load_pretrained(checkpoint):\n",
    "    print('hhhhh')\n",
    "    device = 'cuda' if torch.cuda.is_available() else 'cpu' # examples: 'cpu', 'cuda', 'cuda:0', 'cuda:1', etc.\n",
    "    #dtype = 'bfloat16' if torch.cuda.is_available() and torch.cuda.is_bf16_supported() else 'float16' # 'float32' or 'bfloat16' or 'float16'\n",
    "    dtype = \"float32\"\n",
    "    \n",
    "    torch.backends.cuda.matmul.allow_tf32 = True # allow tf32 on matmul\n",
    "    torch.backends.cudnn.allow_tf32 = True # allow tf32 on cudnn\n",
    "    device_type = 'cuda' if 'cuda' in device else 'cpu' # for later use in torch.autocast\n",
    "    ptdtype = {'float32': torch.float32, 'bfloat16': torch.bfloat16, 'float16': torch.float16}[dtype]\n",
    "    ctx = nullcontext() if device_type == 'cpu' else torch.amp.autocast(device_type=device_type, dtype=ptdtype)\n",
    "    \n",
    "    # init from a model saved in a specific directory\n",
    "    checkpoint_dict = torch.load(checkpoint, map_location=device)\n",
    "    config = LlamaConfig(**checkpoint_dict['model_args'])\n",
    "    model = Llama(config)\n",
    "    state_dict = checkpoint_dict['model']\n",
    "    unwanted_prefix = '_orig_mod.'\n",
    "    for k,v in list(state_dict.items()):\n",
    "      if k.startswith(unwanted_prefix):\n",
    "          state_dict[k[len(unwanted_prefix):]] = state_dict.pop(k)\n",
    "    # print(len(state_dict),len(model.state_dict()))\n",
    "    # print('state.........................................................')\n",
    "    # for key in state_dict.keys():\n",
    "    #     print(key)\n",
    "    # print('mdoel.........................................................')\n",
    "    # for key in model.state_dict().keys():\n",
    "    #     print(key)\n",
    "    model.load_state_dict(state_dict, strict=True)\n",
    "    return model"
   ]
  },
  {
   "cell_type": "code",
   "execution_count": null,
   "id": "7cdfb5bf-6966-4499-bf4d-082a28866ed9",
   "metadata": {},
   "outputs": [],
   "source": []
  },
  {
   "cell_type": "code",
   "execution_count": 212,
   "id": "88e30e6b-343d-43b5-ad4a-b9ead9dd3d98",
   "metadata": {},
   "outputs": [
    {
     "name": "stderr",
     "output_type": "stream",
     "text": [
      "C:\\Users\\liuchu\\AppData\\Local\\Temp\\ipykernel_13260\\3754824266.py:7: FutureWarning: You are using `torch.load` with `weights_only=False` (the current default value), which uses the default pickle module implicitly. It is possible to construct malicious pickle data which will execute arbitrary code during unpickling (See https://github.com/pytorch/pytorch/blob/main/SECURITY.md#untrusted-models for more details). In a future release, the default value for `weights_only` will be flipped to `True`. This limits the functions that could be executed during unpickling. Arbitrary objects will no longer be allowed to be loaded via this mode unless they are explicitly allowlisted by the user via `torch.serialization.add_safe_globals`. We recommend you start setting `weights_only=True` for any use case where you don't have full control of the loaded file. Please open an issue on GitHub for any issues related to this experimental feature.\n",
      "  sanity_data = torch.load(\"./sanity_check.data\")\n",
      "C:\\Users\\liuchu\\AppData\\Local\\Temp\\ipykernel_13260\\441803026.py:14: FutureWarning: You are using `torch.load` with `weights_only=False` (the current default value), which uses the default pickle module implicitly. It is possible to construct malicious pickle data which will execute arbitrary code during unpickling (See https://github.com/pytorch/pytorch/blob/main/SECURITY.md#untrusted-models for more details). In a future release, the default value for `weights_only` will be flipped to `True`. This limits the functions that could be executed during unpickling. Arbitrary objects will no longer be allowed to be loaded via this mode unless they are explicitly allowlisted by the user via `torch.serialization.add_safe_globals`. We recommend you start setting `weights_only=True` for any use case where you don't have full control of the loaded file. Please open an issue on GitHub for any issues related to this experimental feature.\n",
      "  checkpoint_dict = torch.load(checkpoint, map_location=device)\n"
     ]
    },
    {
     "name": "stdout",
     "output_type": "stream",
     "text": [
      "load....\n",
      "hhhhh\n"
     ]
    }
   ],
   "source": [
    "import torch\n",
    "\n",
    "seed = 1337\n",
    "torch.manual_seed(seed)\n",
    "torch.cuda.manual_seed(seed)\n",
    "\n",
    "sanity_data = torch.load(\"./sanity_check.data\")\n",
    "# text_batch = [\"hello world\", \"hello neural network for NLP\"]\n",
    "# tokenizer here\n",
    "sent_ids = torch.tensor([[101, 7592, 2088, 102, 0, 0, 0, 0],\n",
    "                         [101, 7592, 15756, 2897, 2005, 17953, 2361, 102]])\n",
    "\n",
    "# load our model\n",
    "print('load....')\n",
    "llama = load_pretrained(\"stories42M.pt\")\n",
    "# with torch.no_grad():\n",
    "#     logits, hidden_states = llama(sent_ids)\n",
    "#     print('logits',logits)\n",
    "#     print('santiy', sanity_data[\"logits\"])\n",
    "#     assert torch.allclose(logits, sanity_data[\"logits\"], atol=1e-5, rtol=1e-3)\n",
    "#     print(hidden_states, sanity_data[\"hidden_states\"])\n",
    "#     assert torch.allclose(hidden_states, sanity_data[\"hidden_states\"], atol=1e-5, rtol=1e-3)\n",
    "#     print(\"Your Llama implementation is correct!\")"
   ]
  },
  {
   "cell_type": "code",
   "execution_count": 213,
   "id": "822ca600-4c2b-4882-8290-ebfca0d6ee98",
   "metadata": {},
   "outputs": [
    {
     "data": {
      "text/plain": [
       "tensor([[  101,  7592,  2088,   102,     0,     0,     0,     0,  8227,  5832,\n",
       "          1699,  1183,  1497, 29889,   376, 12024, 29915, 29879,   437,   372,\n",
       "          1699,   263,  4802, 29892, 18881,  5076, 29889,   323],\n",
       "        [  101,  7592, 15756,  2897,  2005, 17953,  2361,   102,   294,  6773,\n",
       "           304, 11230, 29889,  2688,   674,   367, 28773,  7205, 19773, 29889,\n",
       "          1205,   937, 29892,   306,  2367,   366,  1286,  3850]])"
      ]
     },
     "execution_count": 213,
     "metadata": {},
     "output_type": "execute_result"
    }
   ],
   "source": [
    "llama.generate(sent_ids,20)"
   ]
  },
  {
   "cell_type": "code",
   "execution_count": 214,
   "id": "f604313e-1310-4e10-ab8d-dc4aa60c8f5d",
   "metadata": {},
   "outputs": [],
   "source": [
    "from tokenizer import Tokenizer"
   ]
  },
  {
   "cell_type": "code",
   "execution_count": 215,
   "id": "09ea4349-134a-406d-8a2b-9c29a2e9157d",
   "metadata": {},
   "outputs": [],
   "source": [
    "def generate_sentence(prefix, max_new_tokens = 75, temperature = 0.0):\n",
    "    with torch.no_grad():\n",
    "        device = 'cpu'\n",
    "        llama = load_pretrained(\"stories42M.pt\")\n",
    "        llama = llama.to(device)\n",
    "        print(f\"load model\")\n",
    "        enc = Tokenizer(30)\n",
    "    \n",
    "        start_ids = enc.encode(prefix, bos=True, eos=False)\n",
    "        x = (torch.tensor(start_ids, dtype=torch.long, device=device)[None, ...])\n",
    "    \n",
    "        # run generation\n",
    "        with torch.no_grad():\n",
    "            y = llama.generate(x, max_new_tokens)\n",
    "            sentence = enc.decode(y[0].tolist())\n",
    "            print(f\"Temperature is {temperature}\")\n",
    "            print(sentence)\n",
    "            print('---------------')"
   ]
  },
  {
   "cell_type": "code",
   "execution_count": null,
   "id": "d0c39c59-8202-4f0c-a4a9-3b48b6119d41",
   "metadata": {},
   "outputs": [],
   "source": []
  },
  {
   "cell_type": "code",
   "execution_count": null,
   "id": "d7ea5861-ca93-44e6-881d-c18012c6e933",
   "metadata": {},
   "outputs": [],
   "source": []
  },
  {
   "cell_type": "code",
   "execution_count": null,
   "id": "8b915443-d3b4-4e06-8460-d54139cc364c",
   "metadata": {},
   "outputs": [],
   "source": []
  },
  {
   "cell_type": "code",
   "execution_count": null,
   "id": "0d02d742-7238-4940-839d-a9a5dce09f74",
   "metadata": {},
   "outputs": [],
   "source": []
  },
  {
   "cell_type": "code",
   "execution_count": 217,
   "id": "67c6f5b8-9118-46e4-8c37-323cb54800e9",
   "metadata": {},
   "outputs": [
    {
     "name": "stdout",
     "output_type": "stream",
     "text": [
      "hhhhh\n"
     ]
    },
    {
     "name": "stderr",
     "output_type": "stream",
     "text": [
      "C:\\Users\\liuchu\\AppData\\Local\\Temp\\ipykernel_13260\\441803026.py:14: FutureWarning: You are using `torch.load` with `weights_only=False` (the current default value), which uses the default pickle module implicitly. It is possible to construct malicious pickle data which will execute arbitrary code during unpickling (See https://github.com/pytorch/pytorch/blob/main/SECURITY.md#untrusted-models for more details). In a future release, the default value for `weights_only` will be flipped to `True`. This limits the functions that could be executed during unpickling. Arbitrary objects will no longer be allowed to be loaded via this mode unless they are explicitly allowlisted by the user via `torch.serialization.add_safe_globals`. We recommend you start setting `weights_only=True` for any use case where you don't have full control of the loaded file. Please open an issue on GitHub for any issues related to this experimental feature.\n",
      "  checkpoint_dict = torch.load(checkpoint, map_location=device)\n"
     ]
    },
    {
     "name": "stdout",
     "output_type": "stream",
     "text": [
      "load model\n",
      "Temperature is 0.0\n",
      "She is a big bird. He likes to fly very fast. He looks for children to fly in the forest. He talks with the children to fly again. He pushes the other birds and joins them to fly too. He looks at them with different animals on altogether. He thanks them with the skies around him.\n",
      "One day, hearsoks and see.\n",
      "---------------\n"
     ]
    }
   ],
   "source": [
    "generate_sentence('She is')"
   ]
  },
  {
   "cell_type": "code",
   "execution_count": null,
   "id": "78a7d369-7eca-444c-ab36-65a799b5fd03",
   "metadata": {},
   "outputs": [],
   "source": []
  },
  {
   "cell_type": "code",
   "execution_count": null,
   "id": "f858c449-1ac2-4d7a-8015-746fc2cf12d4",
   "metadata": {},
   "outputs": [],
   "source": []
  },
  {
   "cell_type": "code",
   "execution_count": null,
   "id": "4daff6ce-4b91-4319-852f-9962867b611c",
   "metadata": {},
   "outputs": [],
   "source": []
  },
  {
   "cell_type": "code",
   "execution_count": null,
   "id": "b3238da5-e8d6-4267-b0d2-6a5b80f5b1ae",
   "metadata": {},
   "outputs": [],
   "source": []
  },
  {
   "cell_type": "code",
   "execution_count": null,
   "id": "3093589c-fe5d-4d2f-acdf-86660ec2bfe4",
   "metadata": {},
   "outputs": [],
   "source": []
  },
  {
   "cell_type": "code",
   "execution_count": null,
   "id": "3a3a2b1e-2d14-4a1e-8299-748a3de605f7",
   "metadata": {},
   "outputs": [],
   "source": []
  },
  {
   "cell_type": "code",
   "execution_count": null,
   "id": "e908766c-15d1-49a6-93d7-e94aabcf1081",
   "metadata": {},
   "outputs": [],
   "source": []
  },
  {
   "cell_type": "code",
   "execution_count": null,
   "id": "100e53c9-9c4d-46dc-ada2-26a8abcd33ff",
   "metadata": {},
   "outputs": [],
   "source": []
  },
  {
   "cell_type": "code",
   "execution_count": null,
   "id": "062a8be6-c2a8-495d-bece-c4ae95a1b823",
   "metadata": {},
   "outputs": [],
   "source": []
  },
  {
   "cell_type": "code",
   "execution_count": null,
   "id": "fadf4b56-0ace-40fa-a8af-6c38116d04a2",
   "metadata": {},
   "outputs": [],
   "source": []
  },
  {
   "cell_type": "code",
   "execution_count": null,
   "id": "1ed55130-89fa-4789-b757-d8fcc17c3478",
   "metadata": {},
   "outputs": [],
   "source": []
  },
  {
   "cell_type": "code",
   "execution_count": null,
   "id": "aa57f5db-c88d-488a-a9cc-9d84a0e7850f",
   "metadata": {},
   "outputs": [],
   "source": []
  },
  {
   "cell_type": "code",
   "execution_count": null,
   "id": "82d1de98-9264-4c45-960f-cba8f38ac857",
   "metadata": {},
   "outputs": [],
   "source": []
  },
  {
   "cell_type": "code",
   "execution_count": null,
   "id": "f7182ce0-7467-439f-a6cf-0127d83bbe3f",
   "metadata": {},
   "outputs": [],
   "source": []
  },
  {
   "cell_type": "code",
   "execution_count": null,
   "id": "012f6923-ac7b-4675-9b9f-7d7ddf6937a6",
   "metadata": {},
   "outputs": [],
   "source": []
  },
  {
   "cell_type": "code",
   "execution_count": null,
   "id": "d8b1fdc1-283f-45d4-bc0b-530547785721",
   "metadata": {},
   "outputs": [],
   "source": []
  },
  {
   "cell_type": "code",
   "execution_count": null,
   "id": "f06b1f98-31e8-4f58-88cf-8a57cced044a",
   "metadata": {},
   "outputs": [],
   "source": []
  }
 ],
 "metadata": {
  "kernelspec": {
   "display_name": "minitorch Environment",
   "language": "python",
   "name": "minitorch"
  },
  "language_info": {
   "codemirror_mode": {
    "name": "ipython",
    "version": 3
   },
   "file_extension": ".py",
   "mimetype": "text/x-python",
   "name": "python",
   "nbconvert_exporter": "python",
   "pygments_lexer": "ipython3",
   "version": "3.10.14"
  }
 },
 "nbformat": 4,
 "nbformat_minor": 5
}
